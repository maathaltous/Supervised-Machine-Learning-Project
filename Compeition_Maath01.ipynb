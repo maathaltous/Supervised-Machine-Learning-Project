{
  "nbformat": 4,
  "nbformat_minor": 0,
  "metadata": {
    "colab": {
      "provenance": []
    },
    "kernelspec": {
      "name": "python3",
      "display_name": "Python 3"
    },
    "language_info": {
      "name": "python"
    }
  },
  "cells": [
    {
      "cell_type": "markdown",
      "source": [
        "Decision Tree: Kaggle Competition for House Prices\n",
        "\n",
        "**bold text**"
      ],
      "metadata": {
        "id": "o7IP_VBwF3H4"
      }
    },
    {
      "cell_type": "code",
      "execution_count": 1,
      "metadata": {
        "colab": {
          "base_uri": "https://localhost:8080/"
        },
        "id": "7bKd29IYFjKD",
        "outputId": "3b3f0a87-0ab0-451a-a57a-8b1b3302971d"
      },
      "outputs": [
        {
          "output_type": "stream",
          "name": "stdout",
          "text": [
            "Looking in indexes: https://pypi.org/simple, https://us-python.pkg.dev/colab-wheels/public/simple/\n",
            "Requirement already satisfied: scikit-learn in /usr/local/lib/python3.9/dist-packages (1.2.1)\n",
            "Requirement already satisfied: scipy>=1.3.2 in /usr/local/lib/python3.9/dist-packages (from scikit-learn) (1.10.1)\n",
            "Requirement already satisfied: threadpoolctl>=2.0.0 in /usr/local/lib/python3.9/dist-packages (from scikit-learn) (3.1.0)\n",
            "Requirement already satisfied: numpy>=1.17.3 in /usr/local/lib/python3.9/dist-packages (from scikit-learn) (1.22.4)\n",
            "Requirement already satisfied: joblib>=1.1.1 in /usr/local/lib/python3.9/dist-packages (from scikit-learn) (1.2.0)\n"
          ]
        }
      ],
      "source": [
        "import pandas as pd\n",
        "import numpy as np\n",
        "import matplotlib.pyplot as plt\n",
        "import seaborn as sns\n",
        "from sklearn.model_selection import train_test_split\n",
        "from sklearn.preprocessing import OrdinalEncoder, StandardScaler, OneHotEncoder, MinMaxScaler\n",
        "from sklearn.tree import DecisionTreeRegressor\n",
        "from sklearn.pipeline import make_pipeline\n",
        "from sklearn.compose import ColumnTransformer\n",
        "from sklearn.impute import SimpleImputer\n",
        "from sklearn.model_selection import GridSearchCV\n",
        "from sklearn.metrics import mean_absolute_error\n",
        "from sklearn.metrics import mean_squared_error\n",
        "from sklearn.metrics import mean_absolute_percentage_error\n",
        "from sklearn.metrics import r2_score\n",
        "from sklearn.linear_model import SGDRegressor\n",
        "from sklearn.linear_model import LinearRegression\n",
        "from sklearn.pipeline import Pipeline\n",
        "import warnings\n",
        "!pip install scikit-learn --upgrade\n",
        "from matplotlib import pyplot as plt\n",
        "%matplotlib inline\n",
        "sns.set(style=\"whitegrid\")\n",
        "\n",
        "import warnings\n",
        "warnings.filterwarnings(\"ignore\")\n",
        "warnings.filterwarnings(\"ignore\", category=DeprecationWarning) \n",
        "\n",
        "# Input data files are available in the read-only \"../input/\" directory\n",
        "# For example, running this (by clicking run or pressing Shift+Enter) will list all files under the input directory\n",
        "\n",
        "import os\n",
        "for dirname, _, filenames in os.walk('/kaggle/input'):\n",
        "    for filename in filenames:\n",
        "        print(os.path.join(dirname, filename))"
      ]
    },
    {
      "cell_type": "code",
      "source": [
        "train = pd.read_csv(\"train.csv\")\n",
        "test = pd.read_csv(\"test.csv\")\n",
        "\n",
        "train.shape, test.shape"
      ],
      "metadata": {
        "colab": {
          "base_uri": "https://localhost:8080/"
        },
        "id": "1SqiNbZlGbnr",
        "outputId": "d3c9c835-22b6-47c7-a32f-7376a0d49e0b"
      },
      "execution_count": 3,
      "outputs": [
        {
          "output_type": "execute_result",
          "data": {
            "text/plain": [
              "((1460, 81), (1459, 80))"
            ]
          },
          "metadata": {},
          "execution_count": 3
        }
      ]
    },
    {
      "cell_type": "code",
      "source": [
        "#Corelation between SalePrice and other Features\n",
        "corr_matrix = train.corr()\n",
        "corr_matrix['SalePrice'].sort_values(ascending=False)"
      ],
      "metadata": {
        "id": "Bb5T7le7GvoH"
      },
      "execution_count": null,
      "outputs": []
    },
    {
      "cell_type": "code",
      "source": [
        "from pandas.plotting import scatter_matrix\n",
        "\n",
        "features_matrix = ['SalePrice','OverallQual','GrLivArea','GarageCars','GarageArea','TotalBsmtSF']\n",
        "\n",
        "scatter_matrix(train[features_matrix],figsize=(24,12))"
      ],
      "metadata": {
        "id": "A9XGdy3IG4wv"
      },
      "execution_count": null,
      "outputs": []
    },
    {
      "cell_type": "code",
      "source": [
        "train_features = train.drop('SalePrice',axis=1)\n",
        "train_labels = train['SalePrice']"
      ],
      "metadata": {
        "id": "BDKlggKeHGrw"
      },
      "execution_count": null,
      "outputs": []
    },
    {
      "cell_type": "code",
      "source": [
        "numeric = train_features._get_numeric_data().columns\n",
        "categoric = [i for i in train_features.columns if i not in numeric]"
      ],
      "metadata": {
        "id": "uCUiLKUKHMLd"
      },
      "execution_count": null,
      "outputs": []
    },
    {
      "cell_type": "code",
      "source": [
        "train_features.isnull().sum().index\n",
        "null_columns=[]\n",
        "for i in range(len(train_features.isnull().sum().index)):\n",
        "    if train_features.isnull().sum()[i] !=0:\n",
        "        print(train_features.isnull().sum().index[i],'-',train_features.isnull().sum()[i])\n",
        "        null_columns.append(train_features.isnull().sum().index[i])"
      ],
      "metadata": {
        "id": "aV7y-B0kHTBZ"
      },
      "execution_count": null,
      "outputs": []
    },
    {
      "cell_type": "code",
      "source": [
        "null_num_columns = [i for i in null_columns if i in numeric]\n",
        "null_cat_columns = [i for i in null_columns if i not in numeric]"
      ],
      "metadata": {
        "id": "78HA8KDzHZvN"
      },
      "execution_count": null,
      "outputs": []
    },
    {
      "cell_type": "code",
      "source": [
        "train_num = train_features[numeric]\n",
        "train_cat = train_features[categoric]"
      ],
      "metadata": {
        "id": "sxz2NhHtHdXN"
      },
      "execution_count": null,
      "outputs": []
    },
    {
      "cell_type": "code",
      "source": [
        "# Numerical Imputing\n",
        "from sklearn.pipeline import Pipeline\n",
        "from sklearn.preprocessing import StandardScaler,OneHotEncoder\n",
        "from sklearn.impute import SimpleImputer\n",
        "\n",
        "num_pipeline = Pipeline([\n",
        "    ('imputer',SimpleImputer(strategy='median')),\n",
        "    ('std_scalar',StandardScaler())\n",
        "])"
      ],
      "metadata": {
        "id": "NObB2CSxITnR"
      },
      "execution_count": null,
      "outputs": []
    },
    {
      "cell_type": "code",
      "source": [
        "# Categorical Imputing\n",
        "\n",
        "from sklearn.compose import ColumnTransformer\n",
        "\n",
        "final_pipeline = ColumnTransformer([\n",
        "    ('num',num_pipeline,list(train_num.columns)),\n",
        "    ('cat',OneHotEncoder(handle_unknown='ignore'),list(train_cat.columns))\n",
        "])\n",
        "\n",
        "train_final = final_pipeline.fit_transform(train_features)"
      ],
      "metadata": {
        "id": "VNNWHaHMIZsC"
      },
      "execution_count": null,
      "outputs": []
    },
    {
      "cell_type": "code",
      "source": [
        "from sklearn.tree import DecisionTreeRegressor\n",
        "\n",
        "dtree_model = DecisionTreeRegressor()\n",
        "dtree_model.fit(train_final, train_labels)"
      ],
      "metadata": {
        "id": "HduGxZe7IbqG"
      },
      "execution_count": null,
      "outputs": []
    },
    {
      "cell_type": "code",
      "source": [
        "def pred_rand(model):\n",
        "    t_data = train_features.loc[:5]\n",
        "    t_labels = train_labels.loc[:5]\n",
        "\n",
        "    t_data_tr = final_pipeline.transform(t_data)\n",
        "    pred = model.predict(t_data_tr)\n",
        "    pred = [int(i) for i in pred]\n",
        "    print('Predicted: ',pred)\n",
        "    print('Real Labels: ',list(t_labels))\n",
        "\n",
        "pred_rand(dtree_model)"
      ],
      "metadata": {
        "id": "DaDayBwfItPa"
      },
      "execution_count": null,
      "outputs": []
    },
    {
      "cell_type": "code",
      "source": [
        "train_predictions = dtree_model.predict(train_final)\n",
        "dtree_mse = mean_squared_error(train_labels, train_predictions)\n",
        "dtree_rmse = np.sqrt(dtree_mse)\n",
        "print(dtree_rmse)"
      ],
      "metadata": {
        "id": "JH6vC4UbIzkU"
      },
      "execution_count": null,
      "outputs": []
    },
    {
      "cell_type": "code",
      "source": [
        "from sklearn.model_selection import cross_val_score\n",
        "dtree_scores = cross_val_score(dtree_model, train_final, train_labels, scoring=\"neg_mean_squared_error\", cv=10)\n",
        "dtree_scores = np.sqrt(-dtree_scores)"
      ],
      "metadata": {
        "id": "qSjnw7mVKkC0"
      },
      "execution_count": null,
      "outputs": []
    },
    {
      "cell_type": "code",
      "source": [
        "print('Score: ',dtree_scores)\n",
        "print('Mean: ',dtree_scores.mean())\n",
        "print('Standard Deviation: ',dtree_scores.std())"
      ],
      "metadata": {
        "id": "eOTwVubfKr_1"
      },
      "execution_count": null,
      "outputs": []
    },
    {
      "cell_type": "code",
      "source": [
        "MODEL=dtree_model.fit(train_final, train_labels)"
      ],
      "metadata": {
        "id": "7nmBUnngLjkv"
      },
      "execution_count": null,
      "outputs": []
    },
    {
      "cell_type": "code",
      "source": [
        "train_predictions =dtree_model.predict(train_final)"
      ],
      "metadata": {
        "id": "b7Jsb-ijLrNW"
      },
      "execution_count": null,
      "outputs": []
    },
    {
      "cell_type": "code",
      "source": [
        "test_final = final_pipeline.transform(test)"
      ],
      "metadata": {
        "id": "C0xobq_BLvw_"
      },
      "execution_count": null,
      "outputs": []
    },
    {
      "cell_type": "code",
      "source": [
        "pred_prices = dtree_model.predict(test_final)"
      ],
      "metadata": {
        "id": "hBmTOHHiL0CG"
      },
      "execution_count": null,
      "outputs": []
    },
    {
      "cell_type": "code",
      "source": [
        "submissiondtree_model = pd.DataFrame({'Id': test.Id, 'SalePrice': pred_prices})\n",
        "submissiondtree_model.to_csv('submission_dtree_model.csv', index=False)"
      ],
      "metadata": {
        "id": "ANrOz-U-L31Q"
      },
      "execution_count": null,
      "outputs": []
    }
  ]
}